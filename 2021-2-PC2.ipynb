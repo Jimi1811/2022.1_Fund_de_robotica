{
 "cells": [
  {
   "cell_type": "markdown",
   "id": "15b48c69",
   "metadata": {},
   "source": [
    "# Fundamentos de Robótica 2021-2: PC2"
   ]
  },
  {
   "cell_type": "code",
   "execution_count": 1,
   "id": "d7f8f952",
   "metadata": {},
   "outputs": [],
   "source": [
    "import sympy as sp\n",
    "import numpy as np\n",
    "import matplotlib.pyplot as plt"
   ]
  },
  {
   "cell_type": "markdown",
   "id": "fa20a172",
   "metadata": {},
   "source": [
    "## Pregunta 1"
   ]
  },
  {
   "cell_type": "code",
   "execution_count": 2,
   "id": "92da5651",
   "metadata": {},
   "outputs": [],
   "source": [
    "# Funciones auxiliares\n",
    "def sTrasl(x, y, z):\n",
    "    \"\"\" Transformación homogénea que representa traslación pura\n",
    "    \"\"\"\n",
    "    T = sp.Matrix([[1,0,0,x],\n",
    "                   [0,1,0,y],\n",
    "                   [0,0,1,z],\n",
    "                   [0,0,0,1]])\n",
    "    return T\n",
    "\n",
    "def sTrotz(ang):\n",
    "    \"\"\" Transformación homogénea que representa rotación alrededor de z\n",
    "    \"\"\"\n",
    "    T = sp.Matrix([[sp.cos(ang),-sp.sin(ang),0,0],\n",
    "                   [sp.sin(ang), sp.cos(ang),0,0],\n",
    "                   [0,0,1,0],\n",
    "                   [0,0,0,1]])\n",
    "    return T"
   ]
  },
  {
   "cell_type": "code",
   "execution_count": 3,
   "id": "ca154fbf",
   "metadata": {},
   "outputs": [
    {
     "data": {
      "text/latex": [
       "$\\displaystyle \\left[\\begin{matrix}\\cos{\\left(q_{3} \\right)} & - \\sin{\\left(q_{3} \\right)} & 0 & L \\cos{\\left(q_{3} \\right)} + q_{1}\\\\\\sin{\\left(q_{3} \\right)} & \\cos{\\left(q_{3} \\right)} & 0 & L \\sin{\\left(q_{3} \\right)} + q_{2}\\\\0 & 0 & 1 & 0\\\\0 & 0 & 0 & 1\\end{matrix}\\right]$"
      ],
      "text/plain": [
       "Matrix([\n",
       "[cos(q3), -sin(q3), 0, L*cos(q3) + q1],\n",
       "[sin(q3),  cos(q3), 0, L*sin(q3) + q2],\n",
       "[      0,        0, 1,              0],\n",
       "[      0,        0, 0,              1]])"
      ]
     },
     "execution_count": 3,
     "metadata": {},
     "output_type": "execute_result"
    }
   ],
   "source": [
    "# a) \n",
    "q1, q2, q3, L = sp.symbols(\"q1 q2 q3 L\")\n",
    "T = sTrasl(q1, q2, 0) * sTrotz(q3) * sTrasl(L, 0, 0)\n",
    "T"
   ]
  },
  {
   "cell_type": "code",
   "execution_count": 4,
   "id": "231dc0f1",
   "metadata": {},
   "outputs": [
    {
     "data": {
      "text/plain": [
       "array([0.2587868 , 0.3487868 , 0.78327684])"
      ]
     },
     "execution_count": 4,
     "metadata": {},
     "output_type": "execute_result"
    }
   ],
   "source": [
    "# c)\n",
    "L = 0.3\n",
    "xd = np.array([1, 1])\n",
    "Qk0 = np.array([0.2, 0.3, np.deg2rad(45)])\n",
    "\n",
    "q1 = Qk0[0]; q2 = Qk0[1]; q3 = Qk0[2]\n",
    "Qk1 = Qk0 + 0.1 * np.array([[1,0],[0,1],[-L*np.sin(q3),L*np.cos(q3)]]) @ \\\n",
    "      (xd - np.array([L*np.cos(q3)+q1, L*np.sin(q3)+q2]))\n",
    "Qk1      "
   ]
  },
  {
   "cell_type": "code",
   "execution_count": 5,
   "id": "3acf544d",
   "metadata": {},
   "outputs": [
    {
     "data": {
      "text/plain": [
       "array([0.31164996, 0.39273996, 0.78143032])"
      ]
     },
     "execution_count": 5,
     "metadata": {},
     "output_type": "execute_result"
    }
   ],
   "source": [
    "q1 = Qk1[0]; q2 = Qk1[1]; q3 = Qk1[2]\n",
    "Qk2 = Qk1 + 0.1 * np.array([[1,0],[0,1],[-L*np.sin(q3),L*np.cos(q3)]]) @ \\\n",
    "      (xd - np.array([L*np.cos(q3)+q1, L*np.sin(q3)+q2]))\n",
    "\n",
    "Qk2"
   ]
  },
  {
   "cell_type": "markdown",
   "id": "fb980bfd",
   "metadata": {},
   "source": [
    "## Pregunta 2"
   ]
  },
  {
   "cell_type": "code",
   "execution_count": 6,
   "id": "04584ac4",
   "metadata": {},
   "outputs": [],
   "source": [
    "# c)\n",
    "\n",
    "def Tdh(d, th, a, alpha):\n",
    "    cth = np.cos(th);    sth = np.sin(th)\n",
    "    ca = np.cos(alpha);  sa = np.sin(alpha)\n",
    "    Tdh = np.array([[cth, -ca*sth,  sa*sth, a*cth],\n",
    "                    [sth,  ca*cth, -sa*cth, a*sth],\n",
    "                    [0,        sa,     ca,      d],\n",
    "                    [0,         0,      0,      1]])\n",
    "    return Tdh\n",
    "\n",
    "def cdirecta(q):\n",
    "    \"\"\" Retorna los sistemas de referencia de cada eslabón con respecto a la base\n",
    "    \"\"\"\n",
    "    # Transformaciones homogéneas de DH\n",
    "    T01 = Tdh( 265,   q[0]+np.pi,    0, np.pi/2);\n",
    "    T12 = Tdh(   0, q[1]+np.pi/2,  444,       0);\n",
    "    T23 = Tdh(   0,   q[2]+np.pi, -110, np.pi/2);\n",
    "    T34 = Tdh( 470,   q[3]+np.pi,    0, np.pi/2);\n",
    "    T45 = Tdh(   0,   q[4]+np.pi,  -80, np.pi/2);\n",
    "    T56 = Tdh( 101,         q[5],    0,       0);\n",
    "    # Efector final con respecto a la base\n",
    "    Tf = T01.dot(T12).dot(T23).dot(T34).dot(T45).dot(T56)\n",
    "    return Tf"
   ]
  },
  {
   "cell_type": "code",
   "execution_count": 7,
   "id": "8d91d7d8",
   "metadata": {},
   "outputs": [
    {
     "data": {
      "text/plain": [
       "array([[  0.,   0.,   1., 571.],\n",
       "       [ -0.,   1.,  -0.,  -0.],\n",
       "       [ -1.,  -0.,   0., 899.],\n",
       "       [  0.,   0.,   0.,   1.]])"
      ]
     },
     "execution_count": 7,
     "metadata": {},
     "output_type": "execute_result"
    }
   ],
   "source": [
    "# Cuando todos los ángulos son cero:\n",
    "q = [0, 0, 0, 0, 0, 0]\n",
    "np.round(cdirecta(q), 3)"
   ]
  },
  {
   "cell_type": "code",
   "execution_count": 8,
   "id": "4e8832df",
   "metadata": {},
   "outputs": [
    {
     "data": {
      "text/plain": [
       "array([[  0.,  -1.,   0.,   0.],\n",
       "       [  0.,   0.,   1., 571.],\n",
       "       [ -1.,  -0.,   0., 899.],\n",
       "       [  0.,   0.,   0.,   1.]])"
      ]
     },
     "execution_count": 8,
     "metadata": {},
     "output_type": "execute_result"
    }
   ],
   "source": [
    "# Cuando el primer ángulo es 90\n",
    "q = [np.pi/2, 0, 0, 0, 0, 0]\n",
    "np.round(cdirecta(q), 3)"
   ]
  },
  {
   "cell_type": "markdown",
   "id": "1cc199c9",
   "metadata": {},
   "source": [
    "## Pregunta 3"
   ]
  },
  {
   "cell_type": "code",
   "execution_count": 9,
   "id": "b354e090",
   "metadata": {},
   "outputs": [
    {
     "data": {
      "text/plain": [
       "array([ 0.002 , -0.0195, -0.    ,  0.3125,  0.    ,  1.    ])"
      ]
     },
     "execution_count": 9,
     "metadata": {},
     "output_type": "execute_result"
    }
   ],
   "source": [
    "# a)\n",
    "A = np.array([[      0,      0,      0,    0, 0, 1],\n",
    "              [   4**5,   4**4,   4**3, 4**2, 4, 1],\n",
    "              [      0,      0,      0,    0, 1, 0],\n",
    "              [ 5*4**4, 4*4**3, 3*4**2,  2*4, 1, 0],\n",
    "              [      0,      0,      6,    0, 0, 0],\n",
    "              [60*4**2,   24*4,      6,    0, 0, 0]])\n",
    "b = np.array([1, 3, 0, 0, 0, 0])\n",
    "\n",
    "x = np.linalg.inv(A) @ b\n",
    "np.round(x,4)"
   ]
  },
  {
   "cell_type": "code",
   "execution_count": 10,
   "id": "2fe46d30",
   "metadata": {
    "scrolled": true
   },
   "outputs": [
    {
     "data": {
      "image/png": "[encoded data removed]",
      "text/plain": [
       "<Figure size 864x288 with 3 Axes>"
      ]
     },
     "metadata": {
      "needs_background": "light"
     },
     "output_type": "display_data"
    }
   ],
   "source": [
    "# Verificación (no necesaria para la pregunta)\n",
    "a5=x[0]; a4=x[1]; a3=x[2]; a2=x[3]; a1=x[4]; a0=x[5]\n",
    "\n",
    "t = np.linspace(0,4)\n",
    "q = a5*t**5 + a4*t**4 + a3*t**3 + a2*t**2 + a1*t + a0\n",
    "dq = a1 + 2*a2*t + 3*a3*t**2 + 4*a4*t**3 + 5*a5*t**4\n",
    "dddq = 6*a3 + 24*a4*t + 60*a5*t**2\n",
    "\n",
    "plt.figure(figsize=(12,4))\n",
    "plt.subplot(1,3,1); plt.plot(t, q); plt.grid()\n",
    "plt.subplot(1,3,2); plt.plot(t, dq); plt.grid()\n",
    "plt.subplot(1,3,3); plt.plot(t, dddq); plt.grid()"
   ]
  }
 ],
 "metadata": {
  "kernelspec": {
   "display_name": "Python 3",
   "language": "python",
   "name": "python3"
  },
  "language_info": {
   "codemirror_mode": {
    "name": "ipython",
    "version": 3
   },
   "file_extension": ".py",
   "mimetype": "text/x-python",
   "name": "python",
   "nbconvert_exporter": "python",
   "pygments_lexer": "ipython3",
   "version": "3.8.8"
  }
 },
 "nbformat": 4,
 "nbformat_minor": 5
}
